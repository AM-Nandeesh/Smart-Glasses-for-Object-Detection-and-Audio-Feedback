{
 "cells": [
  {
   "cell_type": "code",
   "execution_count": 1,
   "id": "ec1afd55",
   "metadata": {},
   "outputs": [],
   "source": [
    "import cv2\n",
    "import pytesseract\n",
    "import numpy as np\n",
    "import time\n",
    "import pyttsx3\n",
    "import os\n",
    "from gtts import gTTS\n",
    "from playsound import playsound"
   ]
  },
  {
   "cell_type": "code",
   "execution_count": 2,
   "id": "971f24af",
   "metadata": {},
   "outputs": [],
   "source": [
    "net = cv2.dnn.readNet(\"yolov3.weights\", \"yolov3.cfg\")"
   ]
  },
  {
   "cell_type": "code",
   "execution_count": 3,
   "id": "d6a4b92b",
   "metadata": {},
   "outputs": [],
   "source": [
    "with open(\"coco.names\", \"r\") as f:\n",
    "    classes = [line.strip() for line in f.readlines()]"
   ]
  },
  {
   "cell_type": "code",
   "execution_count": 4,
   "id": "ea5d8638",
   "metadata": {},
   "outputs": [],
   "source": [
    "\n",
    "frames_since_last_detection = {}\n",
    "previous_detected_objects=[]"
   ]
  },
  {
   "cell_type": "code",
   "execution_count": 5,
   "id": "efc84da0",
   "metadata": {},
   "outputs": [],
   "source": [
    "output_layers = net.getUnconnectedOutLayersNames()\n",
    "detected_objects = set()"
   ]
  },
  {
   "cell_type": "code",
   "execution_count": 6,
   "id": "5c99601a",
   "metadata": {},
   "outputs": [],
   "source": [
    "engine = pyttsx3.init()"
   ]
  },
  {
   "cell_type": "code",
   "execution_count": 7,
   "id": "605a08fb",
   "metadata": {},
   "outputs": [],
   "source": [
    "cap = cv2.VideoCapture(0)"
   ]
  },
  {
   "cell_type": "code",
   "execution_count": 34,
   "id": "bfbfd835",
   "metadata": {},
   "outputs": [
    {
     "data": {
      "text/plain": [
       "True"
      ]
     },
     "execution_count": 34,
     "metadata": {},
     "output_type": "execute_result"
    }
   ],
   "source": [
    "cap.set(cv2.CAP_PROP_FRAME_WIDTH, 1920)\n",
    "cap.set(cv2.CAP_PROP_FRAME_HEIGHT, 1080)"
   ]
  },
  {
   "cell_type": "code",
   "execution_count": null,
   "id": "59dae6d6",
   "metadata": {},
   "outputs": [],
   "source": []
  },
  {
   "cell_type": "code",
   "execution_count": 8,
   "id": "6b04f158",
   "metadata": {},
   "outputs": [],
   "source": [
    "def post_process(frame, outputs, conf_threshold, nms_threshold):\n",
    "    height, width, _ = frame.shape\n",
    "    boxes = []\n",
    "    confidences = []\n",
    "    class_ids = []\n",
    "    \n",
    "    for output in outputs:\n",
    "        for detection in output:\n",
    "            scores = detection[5:]\n",
    "            class_id = np.argmax(scores)\n",
    "            confidence = scores[class_id]\n",
    "            if confidence > conf_threshold:\n",
    "                center_x = int(detection[0] * width)\n",
    "                center_y = int(detection[1] * height)\n",
    "                w = int(detection[2] * width)\n",
    "                h = int(detection[3] * height)\n",
    "                x = center_x - w // 2\n",
    "                y = center_y - h // 2\n",
    "                boxes.append([x, y, w, h])\n",
    "                confidences.append(float(confidence))\n",
    "                class_ids.append(class_id)\n",
    "                \n",
    "    indices = cv2.dnn.NMSBoxes(boxes, confidences, conf_threshold, nms_threshold)\n",
    "    \n",
    "    return [boxes[i] for i in indices], [confidences[i] for i in indices], [class_ids[i] for i in indices]\n"
   ]
  },
  {
   "cell_type": "code",
   "execution_count": null,
   "id": "f30b7f07",
   "metadata": {
    "scrolled": true
   },
   "outputs": [],
   "source": [
    "while True:\n",
    "    ret, frame = cap.read()\n",
    "    conf_threshold = 0.5  # Confidence threshold for filtering out weak detections\n",
    "    nms_threshold = 0.4   # Non-maximum suppression threshold for eliminating overlapping boxes\n",
    "\n",
    "    # Detect objects in the frame\n",
    "    blob = cv2.dnn.blobFromImage(frame, 1/255, (416, 416), swapRB=True)\n",
    "    net.setInput(blob)\n",
    "    outputs = net.forward(output_layers)\n",
    "    boxes, confidences, class_ids = post_process(frame, outputs, conf_threshold, nms_threshold)\n",
    "\n",
    "    # Update frames_since_last_detection\n",
    "    for i in range(len(frames_since_last_detection)):\n",
    "        object_name = list(frames_since_last_detection.keys())[i]\n",
    "        if object_name in detected_objects:\n",
    "            frames_since_last_detection[object_name] = 0\n",
    "        else:\n",
    "            frames_since_last_detection[object_name] += 1\n",
    "\n",
    "    # Check for new detections and speak the object name\n",
    "   # Check for new detections and speak the object name\n",
    "    indices = cv2.dnn.NMSBoxes(boxes, confidences, conf_threshold, nms_threshold)\n",
    "    for i in range(len(indices)):\n",
    "        index = indices[i]\n",
    "        class_id = class_ids[index]\n",
    "        object_name = classes[class_id]\n",
    "        if object_name not in detected_objects:\n",
    "            detected_objects.add(object_name)\n",
    "            engine.say(f\"{object_name} detected\")\n",
    "            engine.runAndWait()\n",
    "        frames_since_last_detection[object_name] = 0\n",
    "\n",
    "    # Draw bounding boxes around the detected objects\n",
    "    indices = cv2.dnn.NMSBoxes(boxes, confidences, conf_threshold, nms_threshold)\n",
    "    if len(indices) == 0:\n",
    "        continue\n",
    "    for i in indices:\n",
    "        i = indices[0]\n",
    "        box = boxes[i]\n",
    "        left = box[0]\n",
    "        top = box[1]\n",
    "        width = box[2]\n",
    "        height = box[3]\n",
    "        cv2.rectangle(frame, (left, top), (left + width, top + height), (0, 255, 0), 2)\n",
    "\n",
    "\n",
    "    cv2.imshow(\"Object Detection\", frame)\n",
    "    if cv2.waitKey(1) == ord('q'):\n",
    "        break\n",
    "\n",
    "cap.release()\n",
    "cv2.destroyAllWindows()"
   ]
  },
  {
   "cell_type": "code",
   "execution_count": null,
   "id": "d0f8c2e0",
   "metadata": {},
   "outputs": [],
   "source": []
  },
  {
   "cell_type": "code",
   "execution_count": 1,
   "id": "13117448",
   "metadata": {},
   "outputs": [
    {
     "ename": "error",
     "evalue": "OpenCV(4.7.0) D:\\a\\opencv-python\\opencv-python\\opencv\\modules\\imgproc\\src\\convhull.cpp:360: error: (-5:Bad argument) The convex hull indices are not monotonous, which can be in the case when the input contour contains self-intersections in function 'cv::convexityDefects'\n",
     "output_type": "error",
     "traceback": [
      "\u001b[1;31m---------------------------------------------------------------------------\u001b[0m",
      "\u001b[1;31merror\u001b[0m                                     Traceback (most recent call last)",
      "\u001b[1;32m~\\AppData\\Local\\Temp\\ipykernel_4352\\3721274222.py\u001b[0m in \u001b[0;36m<module>\u001b[1;34m\u001b[0m\n\u001b[0;32m     31\u001b[0m \u001b[1;33m\u001b[0m\u001b[0m\n\u001b[0;32m     32\u001b[0m             \u001b[1;31m# Find the defects in the convex hull\u001b[0m\u001b[1;33m\u001b[0m\u001b[1;33m\u001b[0m\u001b[0m\n\u001b[1;32m---> 33\u001b[1;33m             \u001b[0mdefects\u001b[0m \u001b[1;33m=\u001b[0m \u001b[0mcv2\u001b[0m\u001b[1;33m.\u001b[0m\u001b[0mconvexityDefects\u001b[0m\u001b[1;33m(\u001b[0m\u001b[0mcontour\u001b[0m\u001b[1;33m,\u001b[0m \u001b[0mcv2\u001b[0m\u001b[1;33m.\u001b[0m\u001b[0mconvexHull\u001b[0m\u001b[1;33m(\u001b[0m\u001b[0mcontour\u001b[0m\u001b[1;33m,\u001b[0m \u001b[0mreturnPoints\u001b[0m\u001b[1;33m=\u001b[0m\u001b[1;32mFalse\u001b[0m\u001b[1;33m)\u001b[0m\u001b[1;33m)\u001b[0m\u001b[1;33m\u001b[0m\u001b[1;33m\u001b[0m\u001b[0m\n\u001b[0m\u001b[0;32m     34\u001b[0m \u001b[1;33m\u001b[0m\u001b[0m\n\u001b[0;32m     35\u001b[0m             \u001b[1;31m# Count the number of fingers\u001b[0m\u001b[1;33m\u001b[0m\u001b[1;33m\u001b[0m\u001b[0m\n",
      "\u001b[1;31merror\u001b[0m: OpenCV(4.7.0) D:\\a\\opencv-python\\opencv-python\\opencv\\modules\\imgproc\\src\\convhull.cpp:360: error: (-5:Bad argument) The convex hull indices are not monotonous, which can be in the case when the input contour contains self-intersections in function 'cv::convexityDefects'\n"
     ]
    }
   ],
   "source": [
    "import cv2\n",
    "import numpy as np\n",
    "\n",
    "cap = cv2.VideoCapture(0)\n",
    "\n",
    "while True:\n",
    "    ret, frame = cap.read()\n",
    "    if not ret:\n",
    "        break\n",
    "\n",
    "    # Convert to grayscale\n",
    "    gray = cv2.cvtColor(frame, cv2.COLOR_BGR2GRAY)\n",
    "\n",
    "    # Apply Gaussian blur to reduce noise\n",
    "    blur = cv2.GaussianBlur(gray, (5, 5), 0)\n",
    "\n",
    "    # Threshold the image to make it binary\n",
    "    ret, thresh = cv2.threshold(blur, 0, 255, cv2.THRESH_BINARY_INV+cv2.THRESH_OTSU)\n",
    "\n",
    "    # Find contours in the binary image\n",
    "    contours, hierarchy = cv2.findContours(thresh.copy(), cv2.RETR_TREE, cv2.CHAIN_APPROX_SIMPLE)\n",
    "\n",
    "    # Get the largest contour\n",
    "    if len(contours) > 0:\n",
    "        contour = max(contours, key=cv2.contourArea)\n",
    "\n",
    "        # Make sure the contour is big enough to be a hand\n",
    "        if cv2.contourArea(contour) > 10000:\n",
    "            # Find the convex hull of the hand\n",
    "            hull = cv2.convexHull(contour)\n",
    "\n",
    "            # Find the defects in the convex hull\n",
    "            defects = cv2.convexityDefects(contour, cv2.convexHull(contour, returnPoints=False))\n",
    "\n",
    "            # Count the number of fingers\n",
    "            num_fingers = 0\n",
    "            for i in range(defects.shape[0]):\n",
    "                s, e, f, d = defects[i, 0]\n",
    "                start = tuple(contour[s][0])\n",
    "                end = tuple(contour[e][0])\n",
    "                far = tuple(contour[f][0])\n",
    "\n",
    "                # Calculate the length of the sides of the triangle formed by the defects\n",
    "                a = np.sqrt((end[0] - start[0])**2 + (end[1] - start[1])**2)\n",
    "                b = np.sqrt((far[0] - start[0])**2 + (far[1] - start[1])**2)\n",
    "                c = np.sqrt((end[0] - far[0])**2 + (end[1] - far[1])**2)\n",
    "\n",
    "                # Calculate the angle between the sides using the law of cosines\n",
    "                angle = np.arccos((b**2 + c**2 - a**2) / (2*b*c)) * 180 / np.pi\n",
    "\n",
    "                # If the angle is less than 90 degrees, it's a finger\n",
    "                if angle < 90:\n",
    "                    num_fingers += 1\n",
    "\n",
    "            # Draw the contour and hull\n",
    "            cv2.drawContours(frame, [contour], -1, (0, 255, 0), 2)\n",
    "            cv2.drawContours(frame, [hull], -1, (0, 0, 255), 2)\n",
    "\n",
    "            # Display the number of fingers\n",
    "            font = cv2.FONT_HERSHEY_SIMPLEX\n",
    "            cv2.putText(frame, str(num_fingers), (50, 50), font, 1, (0, 0, 255), 2, cv2.LINE_AA)\n",
    "\n",
    "    # Show the frame\n",
    "    cv2.imshow('Hand Gesture Recognition', frame)\n",
    "\n",
    "    # Exit on ESC\n",
    "    if cv2.waitKey(1) == 27:\n",
    "        break\n",
    "\n",
    "cap.release()\n",
    "cv2.destroyAllWindows()\n"
   ]
  },
  {
   "cell_type": "code",
   "execution_count": null,
   "id": "a3561eda",
   "metadata": {},
   "outputs": [],
   "source": []
  }
 ],
 "metadata": {
  "kernelspec": {
   "display_name": "Python 3 (ipykernel)",
   "language": "python",
   "name": "python3"
  },
  "language_info": {
   "codemirror_mode": {
    "name": "ipython",
    "version": 3
   },
   "file_extension": ".py",
   "mimetype": "text/x-python",
   "name": "python",
   "nbconvert_exporter": "python",
   "pygments_lexer": "ipython3",
   "version": "3.9.13"
  }
 },
 "nbformat": 4,
 "nbformat_minor": 5
}
